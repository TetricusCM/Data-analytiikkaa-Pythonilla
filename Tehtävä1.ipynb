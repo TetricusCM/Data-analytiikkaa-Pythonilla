{
  "nbformat": 4,
  "nbformat_minor": 0,
  "metadata": {
    "colab": {
      "provenance": [],
      "authorship_tag": "ABX9TyM+N889Ytg//1wg3XNSV+b2",
      "include_colab_link": true
    },
    "kernelspec": {
      "name": "python3",
      "display_name": "Python 3"
    },
    "language_info": {
      "name": "python"
    }
  },
  "cells": [
    {
      "cell_type": "markdown",
      "metadata": {
        "id": "view-in-github",
        "colab_type": "text"
      },
      "source": [
        "<a href=\"https://colab.research.google.com/github/TetricusCM/Data-analytiikkaa-Pythonilla/blob/main/Teht%C3%A4v%C3%A41.ipynb\" target=\"_parent\"><img src=\"https://colab.research.google.com/assets/colab-badge.svg\" alt=\"Open In Colab\"/></a>"
      ]
    },
    {
      "cell_type": "markdown",
      "source": [
        "# Tehtävä 1\n",
        "\n",
        "Tehtävässä 1 on tarkoituksena soveltaa kuvailevan ja selittävän analytiikan menetelmiä valitsemiisi datoihin. Voit käyttää alempana mainittuja data-paketin datoja tai omaan työhön tai kiinnnostuksen kohteisiin liittyviä datoja. Käytä tehtävässä vähintään kahta eri dataa ja huolehdi että saat mukaan sekä kategorisia että määrällisiä muuttujia.\n",
        "\n",
        "Käytä datojen esittelyyn datan valmisteluun liittyviä menetelmiä (tutustuminen, suodatukset) ja tee datoille tarpeen vaatimat muunnokset.\n",
        "\n",
        "Täysiin pisteisiin pääset vain soveltamalla kaikkia esimerkkimuistioissa esitettyjä menetelmiä (frekvenssitaulukot, luokitellut jakaumat, tilastolliset tunnusluvut, ristiintaulukoinnit, tunnuslukujen vertailut ja korrelaatiot). Käytä havainnollistamiseen graafisia esityksiä.\n",
        "\n",
        "**Esitä datoille hyviä kysymyksiä ja vastaa kysymyksiin taulukoiden ja grafiikoiden lisäksi myös sanallisesti!.**\n",
        "\n",
        "\n"
      ],
      "metadata": {
        "id": "B_gT_yoGLlDK"
      }
    },
    {
      "cell_type": "markdown",
      "source": [
        "Aluksi käsiteltävän datan hakeminen drivestä, sekä tarvittavien kirjastojen hakeminen."
      ],
      "metadata": {
        "id": "nlqQ-3x-MKno"
      }
    },
    {
      "cell_type": "code",
      "execution_count": 1,
      "metadata": {
        "colab": {
          "base_uri": "https://localhost:8080/"
        },
        "id": "RUDyDJp-IY51",
        "outputId": "56552e65-3a5d-4809-9597-196e425dcb75"
      },
      "outputs": [
        {
          "output_type": "stream",
          "name": "stdout",
          "text": [
            "Mounted at /gdrive\n",
            "/gdrive/MyDrive/data\n"
          ]
        }
      ],
      "source": [
        "from google.colab import drive\n",
        "drive.mount('/gdrive')\n",
        "%cd /gdrive/MyDrive/data/\n",
        "\n",
        "import pandas as pd\n",
        "import matplotlib.pyplot as plt\n",
        "import seaborn as sns\n",
        "\n",
        "sns.set_style('white')"
      ]
    },
    {
      "cell_type": "markdown",
      "source": [
        "Itseäni kiinnostavat datat:\n",
        "\n",
        "**titanic.xlsx**\n",
        "\n",
        "Titanicin matkustajaluettelo, jonka muuttujien selitykset löydät avaamalla tiedoston Exceliin.\n",
        "\n",
        "Tältä datalta voit kysyä esimerkiksi: Kuinka paljon laivalla oli miehiä ja naisia? Minkälainen oli matkustajien ikäjakauma? Kuinka iso osuus matkustajista selvisi hengissä? Miten matkustajat jakautuivat eri hyttiluokkiin? Oliko naisten ja miesten selviytymisprosenteissa eroa? Vaikuttiko hyttiluokka selviytymiseen? Poikkesiko selvinneiden ikäjakauma kuolleiden ikäjakaumasta?\n",
        "\n",
        "**rahastoraportti.xlsx**\n",
        "\n",
        "Lähde: Suomen Sijoitustutkimus. Sisältää tietoja sijoitusrahastoista rr_batch_data -välilehdellä. Muuttujien selitykset löydät avaamalla tiedoston Exceliin. Tätä dataa ei kannata valita, jos sijoittaminen on sinulle täysin tuntematon alue.\n",
        "\n",
        "Kategorinen muuttuja RR2009_class kertoo, minkälaisiin kohteisiin rahasto sijoittaa. Määrällisistä muuttujista 120M_return, 60M_return, 36M_return, 12M_return, 6M_return, 3M_return, 1M_return, 12M_volatility on hyvä laskea luokiteltuja jakaumia ja tilastollisia tunnuslukuja. On mielenkiintoista vertailla eri kohteisiin sijoittavien rahastojen tuottoja (120M_return, 60M_return, 36M_return, 12M_return, 6M_return, 3M_return, 1M_return) ja riskiä (12M_volatility). Mahtavatkohan rahastojen perimät hallinnointi- ja säilytyspalkkiot (mgmt_plus_cust_fee_numeric) korreloida tuottojen kanssa?"
      ],
      "metadata": {
        "id": "6GIaa-d3Lkkc"
      }
    },
    {
      "cell_type": "markdown",
      "source": [],
      "metadata": {
        "id": "yua4b6QjMLeE"
      }
    }
  ]
}